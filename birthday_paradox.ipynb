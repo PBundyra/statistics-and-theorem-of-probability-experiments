{
  "cells":[
    {
      "cell_type":"code",
      "source":[
        "import numpy as np\n",
        "import matplotlib.pyplot as plt\n",
        "\n",
        "%matplotlib inline"
      ],
      "execution_count":19,
      "outputs":[
        
      ],
      "metadata":{
        
      }
    },
    {
      "cell_type":"code",
      "source":[
        "N = 100000\n",
        "stats = np.loadtxt(\"us_birth_69_88.csv\", skiprows=1, delimiter=',', dtype=int)"
      ],
      "execution_count":20,
      "outputs":[
        
      ],
      "metadata":{
        
      }
    },
    {
      "cell_type":"code",
      "source":[
        "%%time\n",
        "\n",
        "def emp_dates(num_of_days: int, birth_data, max_count: int) -> int:\n",
        "    R = np.random.randint(0, num_of_days - 1, num_of_days)\n",
        "    X = np.random.randint(1, max_count, num_of_days)\n",
        "    res_arr = R[X <= birth_data[R]]\n",
        "    s = set()\n",
        "    for k in range(num_of_days):\n",
        "        if res_arr[k] in s:\n",
        "            return k + 1\n",
        "        else:\n",
        "            s.add(res_arr[k])"
      ],
      "execution_count":21,
      "outputs":[
        {
          "name":"stdout",
          "text":[
            "CPU times: user 7 µs, sys: 0 ns, total: 7 µs\n",
            "Wall time: 11.2 µs\n"
          ],
          "output_type":"stream"
        }
      ],
      "metadata":{
        
      }
    },
    {
      "cell_type":"code",
      "source":[
        "%%time\n",
        "\n",
        "size = stats.shape[0]\n",
        "birth_data = stats[ :, 2]\n",
        "max_count = np.max(birth_data)\n",
        "emp_sample = [emp_dates(size, birth_data, max_count) for _ in range(N)]"
      ],
      "execution_count":22,
      "outputs":[
        {
          "name":"stdout",
          "text":[
            "CPU times: user 6.58 s, sys: 7.89 ms, total: 6.59 s\n",
            "Wall time: 6.59 s\n"
          ],
          "output_type":"stream"
        }
      ],
      "metadata":{
        
      }
    },
    {
      "cell_type":"code",
      "source":[
        "plt.hist(emp_sample, bins=range(1, 101))\n",
        "plt.show()"
      ],
      "execution_count":23,
      "outputs":[
        {
          "data":{
            "image\/png":"[encoded data removed]"
          },
          "metadata":{
            "image\/png":{
              
            }
          },
          "output_type":"display_data"
        }
      ],
      "metadata":{
        
      }
    }
  ],
  "metadata":{
    
  },
  "nbformat":4,
  "nbformat_minor":0
}