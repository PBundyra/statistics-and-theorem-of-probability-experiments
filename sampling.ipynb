{
  "cells":[
    {
      "cell_type":"markdown",
      "source":[
        "**Problem 3c.** We are now going to investigate an intermediate case - a variable with a finite mean, but no variance. Consider a discrete variable $Y$ with the following distribution: $P(Y=k) = \\frac{1}{|k|(|k|+1)(|k|+2)}$ for $k \\neq 0$ and $P(Y=0) = \\frac{1}{2}$. \n",
        " * Argue that these formulas indeed describe a discrete distribution.\n",
        " * Show that $EY=0$, but $Y$ has no variation (i.e. the defining series is not absolutely convergent).\n",
        " * Plot the function $f(k) = P(Y=k)$ for $k \\in [-10,10]$.\n",
        " * Write a function that samples from $Y$'s distribution.\n",
        " * Generate $N=10\\,000$ values $y_1,\\ldots,y_n$ from the distribution.\n",
        " * For $i \\in \\{1,\\ldots,n\\}$ compute $\\bar{y}_i = \\frac{y_1+\\ldots+y_i}{i}$. \n",
        " * Plot the values of $\\bar{y}_i$. Does it look like the series converges?\n",
        " * For $i \\in \\{1,\\ldots,n\\}$ compute $\\hat{y}_i = \\textrm{ median of }\\{y_1,\\ldots,y_i\\}$.\n",
        " * Plot the values of $\\hat{y}_i$.\n",
        " * Discuss the results obtained."
      ],
      "attachments":{
        
      },
      "metadata":{
        "datalore":{
          "sheet_delimiter":false
        }
      }
    },
    {
      "cell_type":"markdown",
      "source":[
        "Let's show that these formulas indeed describe a discrete distribution.\n",
        "\n",
        "$$\\sum_{k=1}^\\infty P(Y=k)=\\sum_{k=1}^\\infty\\frac{1}{k(k+1)(k+2)}=\\frac{1}{2}\\sum_{k=1}^\\infty\\left(\\frac{1}{k(k+1)}-\\frac{1}{(k+1)(k+2)}\\right)=\\frac{1}{2} \\cdot \\frac{1}{2} = \\frac{1}{4}$$\n",
        "\n",
        "\n",
        "$$\\sum_{k=-1}^{-\\infty} P(Y=k)=\\sum_{k=-1}^{-\\infty}\\frac{1}{(|k|)(|k|+1)(|k|+2)}=\\frac{1}{2}\\sum_{k=-1}^{-\\infty}\\left(\\frac{1}{|k|(|k|+1)}-\\frac{1}{(|k|+1)(|k|+2)}\\right)=\\frac{1}{2} \\cdot \\frac{1}{2} = \\frac{1}{4}$$\n",
        "\n",
        "Let's show now that $EY = 0$.\n",
        "Since the distribution is symetric in regard to 0 and the probability of getting positive number is the same as negative, the $EY$ is equal to 0.\n",
        "\n",
        "Now let's show that $Y$ has no variation.\n",
        "\n",
        "$$Var=EY^2-(EY)^2=\\sum_{k=1}^\\infty\\frac{k^2}{k(k+1)(k+2)}-0^2=\\sum_{k=1}^\\infty\\frac{k}{(k+1)(k+2)}\\sim\\sum_{k=1}^\\infty\\frac{1}{k}=+\\infty$$\n",
        "\n",
        "Since the defining series is not absolutely convergent we can deduce that $Y$ has no variation."
      ],
      "attachments":{
        
      },
      "metadata":{
        "datalore":{
          "sheet_delimiter":false
        }
      }
    },
    {
      "cell_type":"code",
      "source":[
        "import numpy as np\n",
        "import matplotlib.pyplot as plt\n",
        "\n",
        "N = 10000\n",
        "\n",
        "def get_sign():\n",
        "    rand_num = np.random.randint(4)\n",
        "    if rand_num <= 1:\n",
        "        return 0\n",
        "    elif rand_num == 2:\n",
        "        return 1\n",
        "    else:\n",
        "        return -1\n",
        "\n",
        "def p(k):\n",
        "    return 1 \/ 2 if k == 0 else 1 \/ (abs(k) * (abs(k) + 1) * (abs(k) + 2))\n",
        "\n",
        "def get_x(z):\n",
        "    x = 0\n",
        "    while z >= 0:\n",
        "        x += 1\n",
        "        z -= 4*p(x)\n",
        "\n",
        "    return x\n",
        "\n",
        "\n",
        "def sample():\n",
        "    z = np.random.uniform()\n",
        "\n",
        "    return get_sign() * get_x(z)\n",
        "\n",
        "x = np.arange(-10, 11)\n",
        "y = np.vectorize(p)(x)\n",
        "\n",
        "plt.figure(figsize=(12,8))\n",
        "plt.plot(x, y)\n",
        "plt.show()\n",
        "\n",
        "# Means\n",
        "num_list = np.arange(1, N + 1)\n",
        "samples = np.array([sample() for _ in num_list])\n",
        "means = np.cumsum(samples).astype(np.float32) \/ num_list\n",
        "\n",
        "plt.figure(figsize=(12,8))\n",
        "plt.plot(num_list, means)\n",
        "plt.show()\n",
        "\n",
        "# Medians\n",
        "medians = [np.median(samples[:i]) for i in num_list]\n",
        "\n",
        "plt.figure(figsize=(12,8))\n",
        "plt.plot(num_list, medians)\n",
        "plt.show()"
      ],
      "execution_count":8,
      "outputs":[
        {
          "data":{
            "image\/png":"[encoded data removed]"
          },
          "metadata":{
            "image\/png":{
              
            }
          },
          "output_type":"display_data"
        }
      ],
      "metadata":{
        "datalore":{
          "sheet_delimiter":false
        }
      }
    }
  ],
  "metadata":{
    
  },
  "nbformat":4,
  "nbformat_minor":0
}